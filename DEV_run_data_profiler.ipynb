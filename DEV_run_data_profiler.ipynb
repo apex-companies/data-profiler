{
 "cells": [
  {
   "cell_type": "markdown",
   "metadata": {},
   "source": [
    "Jack Miller  \n",
    "Apex Companies  \n",
    "Oct 2024  \n",
    "\n",
    "Starts up a local instance of DataProfiler, the backend class\n"
   ]
  },
  {
   "cell_type": "code",
   "execution_count": 4,
   "metadata": {},
   "outputs": [],
   "source": [
    "''' ENTER PROJECT NUMBER '''\n",
    "\n",
    "PROJECT_NUMBER = 'JBT REYES'\n",
    "DEV = False"
   ]
  },
  {
   "cell_type": "code",
   "execution_count": 5,
   "metadata": {},
   "outputs": [
    {
     "name": "stdout",
     "output_type": "stream",
     "text": [
      "Connecting to DB, attempt 0\n",
      "Connecting to DB, attempt 0\n",
      "SELECT [ProjectNumber]\n",
      "      ,[Company]\n",
      "      ,[Salesperson]\n",
      "      ,[CompanyLocation]\n",
      "      ,[ProjectName]\n",
      "      ,[Email]\n",
      "      ,[StartDate]\n",
      "      ,[DateForAnalysis]\n",
      "      ,[WeekendDateRule]\n",
      "      ,[Notes]\n",
      "      ,[DataUploaded]\n",
      "      ,[UploadDate]\n",
      "      ,[ItemMasterFilePath]\n",
      "      ,[InboundHeaderFilePath]\n",
      "      ,[InboundDetailsFilePath]\n",
      "      ,[InventoryFilePath]\n",
      "      ,[OrderHeaderFilePath]\n",
      "      ,[OrderDetailsFilePath]\n",
      "      ,[ProcessInboundData]\n",
      "      ,[ProcessInventoryData]\n",
      "      ,[ProcessOutboundData]\n",
      "FROM [OutputTables_Prod].[Project]\n",
      "WHERE [ProjectNumber] = ?\n",
      "{'company_location': 'West Dundee, IL',\n",
      " 'company_name': 'JBT',\n",
      " 'data_uploaded': True,\n",
      " 'email': 'josh.packer@apex-cos.com',\n",
      " 'notes': 'JBT AGV company bidding to provide AGVs to Reyes Coca-Cola. JBT '\n",
      "          'asking us to guess what kind of storage equipment Reyes will use '\n",
      "          'for their warehouse, so that JBT can recommend the appropriate '\n",
      "          'vehicles.',\n",
      " 'project_name': 'JBT - Reyes - AGVs',\n",
      " 'project_number': 'JBT REYES',\n",
      " 'salesperson': 'Josh Packer',\n",
      " 'start_date': '2024-09-15',\n",
      " 'transform_options': {'date_for_analysis': <DateForAnalysis.PICK_DATE: 'PickDate'>,\n",
      "                       'process_inbound_data': True,\n",
      "                       'process_inventory_data': False,\n",
      "                       'process_outbound_data': False,\n",
      "                       'weekend_date_rule': <WeekendDateRules.AS_IS: 'As Is'>},\n",
      " 'upload_date': '2024-12-13',\n",
      " 'uploaded_file_paths': {'inbound_details': 'C:/Users/jack.miller/Documents/Apex/Consulting/Client '\n",
      "                                            'Studies/JBT - '\n",
      "                                            'Reyes/data/clean/InboundDetails.csv',\n",
      "                         'inbound_header': 'C:/Users/jack.miller/Documents/Apex/Consulting/Client '\n",
      "                                           'Studies/JBT - '\n",
      "                                           'Reyes/data/clean/InboundHeader.csv',\n",
      "                         'inventory': '',\n",
      "                         'item_master': 'C:/Users/jack.miller/Documents/Apex/Consulting/Client '\n",
      "                                        'Studies/JBT - '\n",
      "                                        'Reyes/data/clean/ItemMaster.csv',\n",
      "                         'order_details': '',\n",
      "                         'order_header': ''}}\n"
     ]
    }
   ],
   "source": [
    "\n",
    "from pprint import pprint\n",
    "from data_profiler.data_profiler import DataProfiler\n",
    "\n",
    "\n",
    "## Start app ##\n",
    "dp = DataProfiler(project_number=PROJECT_NUMBER, dev=DEV)\n",
    "\n",
    "pprint(dp.get_project_info().model_dump())"
   ]
  },
  {
   "cell_type": "code",
   "execution_count": 6,
   "metadata": {},
   "outputs": [
    {
     "name": "stdout",
     "output_type": "stream",
     "text": [
      "Updating JBT REYES\n",
      "SQL dir: ./resources/sql\n",
      "SQL file: PROD/update/update_subwhse_item_master.sql\n",
      "UPDATE [OutputTables_Prod].[ItemMaster]\n",
      "SET [SubWarehouse] = ?\n",
      "WHERE [ProjectNumber] = ? AND [SKU] = ?\n",
      "\n",
      "['Bulk', 'JBT REYES', '137072333']\n",
      "Connecting to DB, attempt 0\n",
      "Connecting to DB, attempt 0\n",
      "SELECT [ProjectNumber]\n",
      "      ,[Company]\n",
      "      ,[Salesperson]\n",
      "      ,[CompanyLocation]\n",
      "      ,[ProjectName]\n",
      "      ,[Email]\n",
      "      ,[StartDate]\n",
      "      ,[DateForAnalysis]\n",
      "      ,[WeekendDateRule]\n",
      "      ,[Notes]\n",
      "      ,[DataUploaded]\n",
      "      ,[UploadDate]\n",
      "      ,[ItemMasterFilePath]\n",
      "      ,[InboundHeaderFilePath]\n",
      "      ,[InboundDetailsFilePath]\n",
      "      ,[InventoryFilePath]\n",
      "      ,[OrderHeaderFilePath]\n",
      "      ,[OrderDetailsFilePath]\n",
      "      ,[ProcessInboundData]\n",
      "      ,[ProcessInventoryData]\n",
      "      ,[ProcessOutboundData]\n",
      "FROM [OutputTables_Prod].[Project]\n",
      "WHERE [ProjectNumber] = ?\n",
      "success=True rows_affected=677 error_message=''\n"
     ]
    }
   ],
   "source": [
    "ret = dp.update_subwhse_in_item_master(file_path='C:/Users/jack.miller/Documents/Apex/Consulting/Client Studies/JBT - Reyes/data/storage/EquipmentAssignments.csv')\n",
    "\n",
    "print(ret)"
   ]
  }
 ],
 "metadata": {
  "kernelspec": {
   "display_name": "Python 3",
   "language": "python",
   "name": "python3"
  },
  "language_info": {
   "codemirror_mode": {
    "name": "ipython",
    "version": 3
   },
   "file_extension": ".py",
   "mimetype": "text/x-python",
   "name": "python",
   "nbconvert_exporter": "python",
   "pygments_lexer": "ipython3",
   "version": "3.11.5"
  }
 },
 "nbformat": 4,
 "nbformat_minor": 2
}
